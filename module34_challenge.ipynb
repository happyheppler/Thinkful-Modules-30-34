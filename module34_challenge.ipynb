{
 "cells": [
  {
   "cell_type": "markdown",
   "metadata": {},
   "source": [
    "# Challenge: What to Use\n",
    "Using selected questions from the 2012 and 2014 editions of the European Social Survey, address the following questions. \n",
    "\n",
    "Keep track of your code and results in a Jupyter notebook or other source that you can share with your mentor. For each question, explain why you chose the approach you did.\n",
    "\n",
    "In this dataset, the same participants answered questions in 2012 and again in 2014.\n",
    "\n",
    "1. Did people become less trusting from 2012 to 2014? Compute results for each country in the sample.\n",
    "2. Did people become happier from 2012 to 2014? Compute results for each country in the sample.\n",
    "3. Who reported watching more TV in 2012, men or women?\n",
    "4. Who was more likely to believe people were fair in 2012, people living with a partner or people living alone?\n",
    "5. Pick three or four of the countries in the sample and compare how often people met socially in 2014. Are there differences, and if so, which countries stand out?\n",
    "6. Pick three or four of the countries in the sample and compare how often people took part in social activities, relative to others their age, in 2014. Are there differences, and if so, which countries stand out?"
   ]
  },
  {
   "cell_type": "code",
   "execution_count": 1,
   "metadata": {
    "ExecuteTime": {
     "end_time": "2020-03-17T23:51:22.174445Z",
     "start_time": "2020-03-17T23:51:20.375931Z"
    }
   },
   "outputs": [],
   "source": [
    "import pandas as pd\n",
    "import seaborn as sns\n",
    "import matplotlib.pyplot as plt\n",
    "from scipy import stats\n",
    "\n",
    "%matplotlib inline"
   ]
  },
  {
   "cell_type": "code",
   "execution_count": 2,
   "metadata": {
    "ExecuteTime": {
     "end_time": "2020-03-17T23:51:22.410070Z",
     "start_time": "2020-03-17T23:51:22.180241Z"
    },
    "scrolled": false
   },
   "outputs": [
    {
     "name": "stdout",
     "output_type": "stream",
     "text": [
      "(8594, 13)\n"
     ]
    },
    {
     "data": {
      "text/html": [
       "<div>\n",
       "<style scoped>\n",
       "    .dataframe tbody tr th:only-of-type {\n",
       "        vertical-align: middle;\n",
       "    }\n",
       "\n",
       "    .dataframe tbody tr th {\n",
       "        vertical-align: top;\n",
       "    }\n",
       "\n",
       "    .dataframe thead th {\n",
       "        text-align: right;\n",
       "    }\n",
       "</style>\n",
       "<table border=\"1\" class=\"dataframe\">\n",
       "  <thead>\n",
       "    <tr style=\"text-align: right;\">\n",
       "      <th></th>\n",
       "      <th>cntry</th>\n",
       "      <th>idno</th>\n",
       "      <th>year</th>\n",
       "      <th>tvtot</th>\n",
       "      <th>ppltrst</th>\n",
       "      <th>pplfair</th>\n",
       "      <th>pplhlp</th>\n",
       "      <th>happy</th>\n",
       "      <th>sclmeet</th>\n",
       "      <th>sclact</th>\n",
       "      <th>gndr</th>\n",
       "      <th>agea</th>\n",
       "      <th>partner</th>\n",
       "    </tr>\n",
       "  </thead>\n",
       "  <tbody>\n",
       "    <tr>\n",
       "      <td>0</td>\n",
       "      <td>CH</td>\n",
       "      <td>5.0</td>\n",
       "      <td>6</td>\n",
       "      <td>3.0</td>\n",
       "      <td>3.0</td>\n",
       "      <td>10.0</td>\n",
       "      <td>5.0</td>\n",
       "      <td>8.0</td>\n",
       "      <td>5.0</td>\n",
       "      <td>4.0</td>\n",
       "      <td>2.0</td>\n",
       "      <td>60.0</td>\n",
       "      <td>1.0</td>\n",
       "    </tr>\n",
       "    <tr>\n",
       "      <td>1</td>\n",
       "      <td>CH</td>\n",
       "      <td>25.0</td>\n",
       "      <td>6</td>\n",
       "      <td>6.0</td>\n",
       "      <td>5.0</td>\n",
       "      <td>7.0</td>\n",
       "      <td>5.0</td>\n",
       "      <td>9.0</td>\n",
       "      <td>3.0</td>\n",
       "      <td>2.0</td>\n",
       "      <td>2.0</td>\n",
       "      <td>59.0</td>\n",
       "      <td>1.0</td>\n",
       "    </tr>\n",
       "    <tr>\n",
       "      <td>2</td>\n",
       "      <td>CH</td>\n",
       "      <td>26.0</td>\n",
       "      <td>6</td>\n",
       "      <td>1.0</td>\n",
       "      <td>8.0</td>\n",
       "      <td>8.0</td>\n",
       "      <td>8.0</td>\n",
       "      <td>7.0</td>\n",
       "      <td>6.0</td>\n",
       "      <td>3.0</td>\n",
       "      <td>1.0</td>\n",
       "      <td>24.0</td>\n",
       "      <td>2.0</td>\n",
       "    </tr>\n",
       "    <tr>\n",
       "      <td>3</td>\n",
       "      <td>CH</td>\n",
       "      <td>28.0</td>\n",
       "      <td>6</td>\n",
       "      <td>4.0</td>\n",
       "      <td>6.0</td>\n",
       "      <td>6.0</td>\n",
       "      <td>7.0</td>\n",
       "      <td>10.0</td>\n",
       "      <td>6.0</td>\n",
       "      <td>2.0</td>\n",
       "      <td>2.0</td>\n",
       "      <td>64.0</td>\n",
       "      <td>1.0</td>\n",
       "    </tr>\n",
       "    <tr>\n",
       "      <td>4</td>\n",
       "      <td>CH</td>\n",
       "      <td>29.0</td>\n",
       "      <td>6</td>\n",
       "      <td>5.0</td>\n",
       "      <td>6.0</td>\n",
       "      <td>7.0</td>\n",
       "      <td>5.0</td>\n",
       "      <td>8.0</td>\n",
       "      <td>7.0</td>\n",
       "      <td>2.0</td>\n",
       "      <td>2.0</td>\n",
       "      <td>55.0</td>\n",
       "      <td>1.0</td>\n",
       "    </tr>\n",
       "  </tbody>\n",
       "</table>\n",
       "</div>"
      ],
      "text/plain": [
       "  cntry  idno  year  tvtot  ppltrst  pplfair  pplhlp  happy  sclmeet  sclact  \\\n",
       "0    CH   5.0     6    3.0      3.0     10.0     5.0    8.0      5.0     4.0   \n",
       "1    CH  25.0     6    6.0      5.0      7.0     5.0    9.0      3.0     2.0   \n",
       "2    CH  26.0     6    1.0      8.0      8.0     8.0    7.0      6.0     3.0   \n",
       "3    CH  28.0     6    4.0      6.0      6.0     7.0   10.0      6.0     2.0   \n",
       "4    CH  29.0     6    5.0      6.0      7.0     5.0    8.0      7.0     2.0   \n",
       "\n",
       "   gndr  agea  partner  \n",
       "0   2.0  60.0      1.0  \n",
       "1   2.0  59.0      1.0  \n",
       "2   1.0  24.0      2.0  \n",
       "3   2.0  64.0      1.0  \n",
       "4   2.0  55.0      1.0  "
      ]
     },
     "execution_count": 2,
     "metadata": {},
     "output_type": "execute_result"
    }
   ],
   "source": [
    "ess = pd.read_csv('https://raw.githubusercontent.com/Thinkful-Ed/data-201-resources/master/ESS_practice_data/ESSdata_Thinkful.csv')\n",
    "\n",
    "print(ess.shape)\n",
    "ess.head()"
   ]
  },
  {
   "cell_type": "markdown",
   "metadata": {
    "ExecuteTime": {
     "end_time": "2020-03-17T00:19:43.193744Z",
     "start_time": "2020-03-17T00:19:43.169930Z"
    }
   },
   "source": [
    "## Did people become less trusting from 2012 (6) to 2014 (7)? Compute results for each country in the sample."
   ]
  },
  {
   "cell_type": "code",
   "execution_count": 3,
   "metadata": {
    "ExecuteTime": {
     "end_time": "2020-03-17T23:51:23.504624Z",
     "start_time": "2020-03-17T23:51:22.421903Z"
    },
    "scrolled": true
   },
   "outputs": [
    {
     "name": "stdout",
     "output_type": "stream",
     "text": [
      "NormaltestResult(statistic=34.41403485540727, pvalue=3.365792056559453e-08)\n",
      "NormaltestResult(statistic=25.049370820773337, pvalue=3.6357853778444874e-06)\n",
      "NormaltestResult(statistic=0.5537028123495471, pvalue=0.7581671476973477)\n",
      "NormaltestResult(statistic=48.02764152552339, pvalue=3.7233182008430934e-11)\n",
      "NormaltestResult(statistic=85.4862970000314, pvalue=2.7345537691839186e-19)\n"
     ]
    },
    {
     "name": "stderr",
     "output_type": "stream",
     "text": [
      "/opt/anaconda3/lib/python3.7/site-packages/scipy/stats/stats.py:1450: UserWarning: kurtosistest only valid for n>=20 ... continuing anyway, n=14\n",
      "  \"anyway, n=%i\" % int(n))\n"
     ]
    },
    {
     "name": "stdout",
     "output_type": "stream",
     "text": [
      "NormaltestResult(statistic=72.6342910118729, pvalue=1.6891340175735596e-16)\n"
     ]
    },
    {
     "data": {
      "image/png": "[encoded data removed]",
      "text/plain": [
       "<Figure size 1080x360 with 6 Axes>"
      ]
     },
     "metadata": {
      "needs_background": "light"
     },
     "output_type": "display_data"
    }
   ],
   "source": [
    "countries = ['CH', 'CZ', 'DE', 'ES', 'NO', 'SE']\n",
    "\n",
    "plt.figure(figsize=(15, 5))\n",
    "\n",
    "for i in range(0, len(countries)):\n",
    "    plt.subplot(1, 6, i + 1)\n",
    "    ess[(ess['cntry'] == countries[i]) & (ess['year'] == 6)]['ppltrst'].hist()\n",
    "    plt.title('Trust in 2012: ' + countries[i])\n",
    "    print(stats.normaltest(ess[(ess['cntry'] == countries[i]) & (ess['year'] == 6)]['ppltrst'], nan_policy='omit'))\n",
    "  \n",
    "plt.show()"
   ]
  },
  {
   "cell_type": "code",
   "execution_count": 4,
   "metadata": {
    "ExecuteTime": {
     "end_time": "2020-03-17T23:51:24.603535Z",
     "start_time": "2020-03-17T23:51:23.525693Z"
    },
    "scrolled": true
   },
   "outputs": [
    {
     "name": "stdout",
     "output_type": "stream",
     "text": [
      "NormaltestResult(statistic=32.07122389622901, pvalue=1.0859809748932778e-07)\n",
      "NormaltestResult(statistic=8.015640651166011, pvalue=0.0181729632415102)\n",
      "NormaltestResult(statistic=0.6451892229565249, pvalue=0.7242674045554323)\n",
      "NormaltestResult(statistic=29.796593978669407, pvalue=3.3865058313913864e-07)\n",
      "NormaltestResult(statistic=71.2109329693447, pvalue=3.441457258129768e-16)\n",
      "NormaltestResult(statistic=66.17133174781476, pvalue=4.276395667350845e-15)\n"
     ]
    },
    {
     "data": {
      "image/png": "[encoded data removed]",
      "text/plain": [
       "<Figure size 1080x360 with 6 Axes>"
      ]
     },
     "metadata": {
      "needs_background": "light"
     },
     "output_type": "display_data"
    }
   ],
   "source": [
    "countries = ['CH', 'CZ', 'DE', 'ES', 'NO', 'SE']\n",
    "\n",
    "plt.figure(figsize=(15, 5))\n",
    "\n",
    "for i in range(0, len(countries)):\n",
    "    plt.subplot(1, 6, i + 1)\n",
    "    ess[(ess['cntry'] == countries[i]) & (ess['year'] == 7)]['ppltrst'].hist()\n",
    "    plt.title('Trust in 2014: ' + countries[i])\n",
    "    print(stats.normaltest(ess[(ess['cntry'] == countries[i]) & (ess['year'] == 7)]['ppltrst'], nan_policy='omit'))\n",
    "\n",
    "plt.show()"
   ]
  },
  {
   "cell_type": "markdown",
   "metadata": {},
   "source": [
    "Most of the distributions are not normal (non-normal, paired)."
   ]
  },
  {
   "cell_type": "code",
   "execution_count": 5,
   "metadata": {
    "ExecuteTime": {
     "end_time": "2020-03-17T23:51:25.185509Z",
     "start_time": "2020-03-17T23:51:24.606336Z"
    }
   },
   "outputs": [
    {
     "data": {
      "image/png": "[encoded data removed]",
      "text/plain": [
       "<Figure size 432x288 with 1 Axes>"
      ]
     },
     "metadata": {
      "needs_background": "light"
     },
     "output_type": "display_data"
    }
   ],
   "source": [
    "sns.boxplot(x='cntry', y='ppltrst', hue='year', data=ess)\n",
    "plt.title('Trust: 2012 vs. 2014')\n",
    "plt.xlabel('Country')\n",
    "plt.ylabel('Trust')\n",
    "plt.show()"
   ]
  },
  {
   "cell_type": "code",
   "execution_count": 6,
   "metadata": {
    "ExecuteTime": {
     "end_time": "2020-03-17T23:51:25.291126Z",
     "start_time": "2020-03-17T23:51:25.190017Z"
    },
    "scrolled": true
   },
   "outputs": [
    {
     "name": "stdout",
     "output_type": "stream",
     "text": [
      "CH: WilcoxonResult(statistic=106278.5, pvalue=0.4411286510952477)\n",
      "CZ: WilcoxonResult(statistic=82837.0, pvalue=0.2931891426327379)\n",
      "DE: WilcoxonResult(statistic=44.0, pvalue=0.9157134600899863)\n",
      "ES: WilcoxonResult(statistic=243475.5, pvalue=0.005570829650439684)\n",
      "NO: WilcoxonResult(statistic=85392.0, pvalue=0.6139175669970661)\n",
      "SE: WilcoxonResult(statistic=130719.5, pvalue=0.028545290985536906)\n"
     ]
    },
    {
     "name": "stderr",
     "output_type": "stream",
     "text": [
      "/opt/anaconda3/lib/python3.7/site-packages/scipy/stats/morestats.py:2866: RuntimeWarning: invalid value encountered in greater\n",
      "  r_plus = np.sum((d > 0) * r, axis=0)\n",
      "/opt/anaconda3/lib/python3.7/site-packages/scipy/stats/morestats.py:2867: RuntimeWarning: invalid value encountered in less\n",
      "  r_minus = np.sum((d < 0) * r, axis=0)\n"
     ]
    }
   ],
   "source": [
    "for i in range(0, len(countries)):\n",
    "    before = ess[(ess['cntry'] == countries[i]) & (ess['year'] == 6)]['ppltrst']\n",
    "    after = ess[(ess['cntry'] == countries[i]) & (ess['year'] == 7)]['ppltrst']\n",
    "    print(countries[i] + ':', stats.wilcoxon(before, after))"
   ]
  },
  {
   "cell_type": "markdown",
   "metadata": {},
   "source": [
    "### Answer:\n",
    "* Positive statistic means trust went down and negative statistic means trust went up.\n",
    "* Trust did not significantly change for CH, CZ, DE, and NO.\n",
    "* Trust significantly decreased for ES and significantly increased for SE."
   ]
  },
  {
   "cell_type": "markdown",
   "metadata": {},
   "source": [
    "## Did people become happier from 2012 to 2014? Compute results for each country in the sample."
   ]
  },
  {
   "cell_type": "code",
   "execution_count": 7,
   "metadata": {
    "ExecuteTime": {
     "end_time": "2020-03-17T23:51:26.336750Z",
     "start_time": "2020-03-17T23:51:25.299289Z"
    }
   },
   "outputs": [
    {
     "name": "stdout",
     "output_type": "stream",
     "text": [
      "NormaltestResult(statistic=188.44583258657116, pvalue=1.2009014936632828e-41)\n",
      "NormaltestResult(statistic=33.31170486577394, pvalue=5.840569510842764e-08)\n",
      "NormaltestResult(statistic=1.506462655423323, pvalue=0.4708426450576315)\n",
      "NormaltestResult(statistic=211.81535847203477, pvalue=1.0112983918145527e-46)\n",
      "NormaltestResult(statistic=228.52086537729167, pvalue=2.38410063518236e-50)\n",
      "NormaltestResult(statistic=142.6192698491184, pvalue=1.0730477437761676e-31)\n"
     ]
    },
    {
     "name": "stderr",
     "output_type": "stream",
     "text": [
      "/opt/anaconda3/lib/python3.7/site-packages/scipy/stats/stats.py:1450: UserWarning: kurtosistest only valid for n>=20 ... continuing anyway, n=14\n",
      "  \"anyway, n=%i\" % int(n))\n"
     ]
    },
    {
     "data": {
      "image/png": "[encoded data removed]",
      "text/plain": [
       "<Figure size 1080x360 with 6 Axes>"
      ]
     },
     "metadata": {
      "needs_background": "light"
     },
     "output_type": "display_data"
    }
   ],
   "source": [
    "countries = ['CH', 'CZ', 'DE', 'ES', 'NO', 'SE']\n",
    "\n",
    "plt.figure(figsize=(15, 5))\n",
    "\n",
    "for i in range(0, len(countries)):\n",
    "    plt.subplot(1, 6, i + 1)\n",
    "    ess[(ess['cntry'] == countries[i]) & (ess['year'] == 6)]['happy'].hist()\n",
    "    plt.title('Happiness in 2012: ' + countries[i])\n",
    "    print(stats.normaltest(ess[(ess['cntry'] == countries[i]) & (ess['year'] == 6)]['happy'], nan_policy='omit'))\n",
    "\n",
    "plt.show()"
   ]
  },
  {
   "cell_type": "code",
   "execution_count": 8,
   "metadata": {
    "ExecuteTime": {
     "end_time": "2020-03-17T23:51:27.507122Z",
     "start_time": "2020-03-17T23:51:26.341161Z"
    }
   },
   "outputs": [
    {
     "name": "stdout",
     "output_type": "stream",
     "text": [
      "NormaltestResult(statistic=156.83716655039797, pvalue=8.774896545471838e-35)\n",
      "NormaltestResult(statistic=41.51459060672008, pvalue=9.665430236613688e-10)\n",
      "NormaltestResult(statistic=2.1782905366822414, pvalue=0.33650399143734494)\n",
      "NormaltestResult(statistic=196.39100576911136, pvalue=2.260658435940068e-43)\n",
      "NormaltestResult(statistic=182.17416218051966, pvalue=2.7630154274213406e-40)\n",
      "NormaltestResult(statistic=88.99061407595354, pvalue=4.7416957358270756e-20)\n"
     ]
    },
    {
     "data": {
      "image/png": "[encoded data removed]",
      "text/plain": [
       "<Figure size 1080x360 with 6 Axes>"
      ]
     },
     "metadata": {
      "needs_background": "light"
     },
     "output_type": "display_data"
    }
   ],
   "source": [
    "countries = ['CH', 'CZ', 'DE', 'ES', 'NO', 'SE']\n",
    "\n",
    "plt.figure(figsize=(15, 5))\n",
    "\n",
    "for i in range(0, len(countries)):\n",
    "    plt.subplot(1, 6, i + 1)\n",
    "    ess[(ess['cntry'] == countries[i]) & (ess['year'] == 7)]['happy'].hist()\n",
    "    plt.title('Happiness in 2014: ' + countries[i])\n",
    "    print(stats.normaltest(ess[(ess['cntry'] == countries[i]) & (ess['year'] == 7)]['happy'], nan_policy='omit'))\n",
    "\n",
    "plt.show()"
   ]
  },
  {
   "cell_type": "markdown",
   "metadata": {},
   "source": [
    "Distributions are skewed to the right (non-normal, paired)."
   ]
  },
  {
   "cell_type": "code",
   "execution_count": 9,
   "metadata": {
    "ExecuteTime": {
     "end_time": "2020-03-17T23:51:28.109479Z",
     "start_time": "2020-03-17T23:51:27.510664Z"
    }
   },
   "outputs": [
    {
     "data": {
      "image/png": "[encoded data removed]",
      "text/plain": [
       "<Figure size 432x288 with 1 Axes>"
      ]
     },
     "metadata": {
      "needs_background": "light"
     },
     "output_type": "display_data"
    }
   ],
   "source": [
    "sns.boxplot(x='cntry', y='happy', hue='year', data=ess)\n",
    "plt.title('Happiness: 2012 vs. 2014')\n",
    "plt.xlabel('Country')\n",
    "plt.ylabel('Happiness')\n",
    "plt.show()"
   ]
  },
  {
   "cell_type": "code",
   "execution_count": 10,
   "metadata": {
    "ExecuteTime": {
     "end_time": "2020-03-17T23:51:28.238279Z",
     "start_time": "2020-03-17T23:51:28.113000Z"
    }
   },
   "outputs": [
    {
     "name": "stdout",
     "output_type": "stream",
     "text": [
      "CH: WilcoxonResult(statistic=92816.5, pvalue=0.8208688161425343)\n",
      "CZ: WilcoxonResult(statistic=73213.0, pvalue=0.01064243454053068)\n",
      "DE: WilcoxonResult(statistic=23.5, pvalue=0.393351316918508)\n",
      "ES: WilcoxonResult(statistic=231958.5, pvalue=0.04923868084306013)\n",
      "NO: WilcoxonResult(statistic=67571.5, pvalue=2.7264367804254175e-06)\n",
      "SE: WilcoxonResult(statistic=125481.0, pvalue=0.5136403441005022)\n"
     ]
    },
    {
     "name": "stderr",
     "output_type": "stream",
     "text": [
      "/opt/anaconda3/lib/python3.7/site-packages/scipy/stats/morestats.py:2866: RuntimeWarning: invalid value encountered in greater\n",
      "  r_plus = np.sum((d > 0) * r, axis=0)\n",
      "/opt/anaconda3/lib/python3.7/site-packages/scipy/stats/morestats.py:2867: RuntimeWarning: invalid value encountered in less\n",
      "  r_minus = np.sum((d < 0) * r, axis=0)\n"
     ]
    }
   ],
   "source": [
    "for i in range(0, len(countries)):\n",
    "    before = ess[(ess['cntry'] == countries[i]) & (ess['year'] == 6)]['happy']\n",
    "    after = ess[(ess['cntry'] == countries[i]) & (ess['year'] == 7)]['happy']\n",
    "    print(countries[i] + ':', stats.wilcoxon(before, after))"
   ]
  },
  {
   "cell_type": "code",
   "execution_count": 11,
   "metadata": {
    "ExecuteTime": {
     "end_time": "2020-03-17T23:51:28.297547Z",
     "start_time": "2020-03-17T23:51:28.251155Z"
    }
   },
   "outputs": [
    {
     "name": "stdout",
     "output_type": "stream",
     "text": [
      "6.7708978328173375 6.914110429447852\n"
     ]
    }
   ],
   "source": [
    "before = ess[(ess['cntry'] == countries[1]) & (ess['year'] == 6)]['happy'].mean()\n",
    "after = ess[(ess['cntry'] == countries[1]) & (ess['year'] == 7)]['happy'].mean()\n",
    "\n",
    "print(before, after)"
   ]
  },
  {
   "cell_type": "markdown",
   "metadata": {},
   "source": [
    "### Answer:\n",
    "* Positive statistic means trust went down and negative statistic means trust went up.\n",
    "* Happiness did not significantly change for CH, DE, NO, and SE.\n",
    "* Happiness significantly decreased for CZ and ES."
   ]
  },
  {
   "cell_type": "markdown",
   "metadata": {},
   "source": [
    "## Who reported watching more TV in 2012, men or women?"
   ]
  },
  {
   "cell_type": "code",
   "execution_count": 12,
   "metadata": {
    "ExecuteTime": {
     "end_time": "2020-03-17T23:51:28.806426Z",
     "start_time": "2020-03-17T23:51:28.303578Z"
    }
   },
   "outputs": [
    {
     "data": {
      "image/png": "[encoded data removed]",
      "text/plain": [
       "<Figure size 720x360 with 2 Axes>"
      ]
     },
     "metadata": {
      "needs_background": "light"
     },
     "output_type": "display_data"
    }
   ],
   "source": [
    "male = ess[(ess['gndr'] == 1) & (ess['year'] == 6)]['tvtot']\n",
    "female = ess[(ess['gndr'] == 2) & (ess['year'] == 6)]['tvtot']\n",
    "\n",
    "plt.figure(figsize=(10, 5))\n",
    "\n",
    "plt.subplot(1, 2, 1)\n",
    "male.hist()\n",
    "plt.title('TV in 2012: Male')\n",
    "\n",
    "plt.subplot(1, 2, 2)\n",
    "female.hist()\n",
    "plt.title('TV in 2012: Female')\n",
    "  \n",
    "plt.show()"
   ]
  },
  {
   "cell_type": "code",
   "execution_count": 13,
   "metadata": {
    "ExecuteTime": {
     "end_time": "2020-03-17T23:51:28.830924Z",
     "start_time": "2020-03-17T23:51:28.810208Z"
    },
    "scrolled": true
   },
   "outputs": [
    {
     "name": "stdout",
     "output_type": "stream",
     "text": [
      "NormaltestResult(statistic=407.6545412430977, pvalue=3.0125974743415432e-89)\n",
      "NormaltestResult(statistic=473.95970583307366, pvalue=1.2049181771413786e-103)\n"
     ]
    }
   ],
   "source": [
    "print(stats.normaltest(male, nan_policy='omit'))\n",
    "print(stats.normaltest(female, nan_policy='omit'))"
   ]
  },
  {
   "cell_type": "markdown",
   "metadata": {},
   "source": [
    "Neither distribution is normal (non-normal, independent)"
   ]
  },
  {
   "cell_type": "code",
   "execution_count": 16,
   "metadata": {
    "ExecuteTime": {
     "end_time": "2020-03-17T23:54:38.905685Z",
     "start_time": "2020-03-17T23:54:38.895212Z"
    }
   },
   "outputs": [
    {
     "data": {
      "text/plain": [
       "MannwhitneyuResult(statistic=2277506.5, pvalue=0.22419270231191457)"
      ]
     },
     "execution_count": 16,
     "metadata": {},
     "output_type": "execute_result"
    }
   ],
   "source": [
    "stats.mannwhitneyu(male, female)"
   ]
  },
  {
   "cell_type": "markdown",
   "metadata": {},
   "source": [
    "### Answer:\n",
    "* Men and women watched about the same amount of TV."
   ]
  },
  {
   "cell_type": "markdown",
   "metadata": {},
   "source": [
    "## Who was more likely to believe people were fair in 2012, people living with a partner or people living alone?"
   ]
  },
  {
   "cell_type": "code",
   "execution_count": 17,
   "metadata": {
    "ExecuteTime": {
     "end_time": "2020-03-17T23:58:41.136753Z",
     "start_time": "2020-03-17T23:58:40.708090Z"
    }
   },
   "outputs": [
    {
     "data": {
      "image/png": "[encoded data removed]",
      "text/plain": [
       "<Figure size 720x360 with 2 Axes>"
      ]
     },
     "metadata": {
      "needs_background": "light"
     },
     "output_type": "display_data"
    }
   ],
   "source": [
    "with_partner = ess[(ess['partner'] == 1) & (ess['year'] == 6)]['pplfair']\n",
    "alone = ess[(ess['partner'] == 2) & (ess['year'] == 6)]['pplfair']\n",
    "\n",
    "plt.figure(figsize=(10, 5))\n",
    "\n",
    "plt.subplot(1, 2, 1)\n",
    "with_partner.hist()\n",
    "plt.title('Fairness in 2012: With Partner')\n",
    "\n",
    "plt.subplot(1, 2, 2)\n",
    "alone.hist()\n",
    "plt.title('Fairness in 2012: Alone')\n",
    "  \n",
    "plt.show()"
   ]
  },
  {
   "cell_type": "code",
   "execution_count": 19,
   "metadata": {
    "ExecuteTime": {
     "end_time": "2020-03-17T23:58:56.954186Z",
     "start_time": "2020-03-17T23:58:56.937009Z"
    }
   },
   "outputs": [
    {
     "name": "stdout",
     "output_type": "stream",
     "text": [
      "NormaltestResult(statistic=179.1040099384887, pvalue=1.2825030260118435e-39)\n",
      "NormaltestResult(statistic=64.92830332216809, pvalue=7.961558194894824e-15)\n"
     ]
    }
   ],
   "source": [
    "print(stats.normaltest(with_partner, nan_policy='omit'))\n",
    "print(stats.normaltest(alone, nan_policy='omit'))"
   ]
  },
  {
   "cell_type": "markdown",
   "metadata": {},
   "source": [
    "Neither distribution is normal (non-normal, independent)"
   ]
  },
  {
   "cell_type": "code",
   "execution_count": 20,
   "metadata": {
    "ExecuteTime": {
     "end_time": "2020-03-17T23:59:32.066471Z",
     "start_time": "2020-03-17T23:59:32.054317Z"
    },
    "scrolled": true
   },
   "outputs": [
    {
     "data": {
      "text/plain": [
       "MannwhitneyuResult(statistic=2019588.5, pvalue=0.00013938009002030226)"
      ]
     },
     "execution_count": 20,
     "metadata": {},
     "output_type": "execute_result"
    }
   ],
   "source": [
    "stats.mannwhitneyu(with_partner, alone)"
   ]
  },
  {
   "cell_type": "code",
   "execution_count": 23,
   "metadata": {
    "ExecuteTime": {
     "end_time": "2020-03-18T00:02:06.734406Z",
     "start_time": "2020-03-18T00:02:06.726200Z"
    }
   },
   "outputs": [
    {
     "name": "stdout",
     "output_type": "stream",
     "text": [
      "6.080736012016523 5.856965174129353\n",
      "7.0 6.0\n"
     ]
    }
   ],
   "source": [
    "print(with_partner.mean(), alone.mean())\n",
    "print(with_partner.median(), alone.median())"
   ]
  },
  {
   "cell_type": "markdown",
   "metadata": {},
   "source": [
    "### Answer:\n",
    "* People living with a partner were significantly more likely to believe people were fair."
   ]
  },
  {
   "cell_type": "markdown",
   "metadata": {},
   "source": [
    "## Pick three or four of the countries in the sample and compare how often people met socially in 2014. Are there differences, and if so, which countries stand out?"
   ]
  },
  {
   "cell_type": "code",
   "execution_count": 27,
   "metadata": {
    "ExecuteTime": {
     "end_time": "2020-03-18T00:06:01.515084Z",
     "start_time": "2020-03-18T00:06:01.037257Z"
    }
   },
   "outputs": [
    {
     "data": {
      "image/png": "[encoded data removed]",
      "text/plain": [
       "<Figure size 720x360 with 3 Axes>"
      ]
     },
     "metadata": {
      "needs_background": "light"
     },
     "output_type": "display_data"
    }
   ],
   "source": [
    "cz = ess[(ess['cntry'] == 'CZ') & (ess['year'] == 7)]['sclmeet']\n",
    "se = ess[(ess['cntry'] == 'SE') & (ess['year'] == 7)]['sclmeet']\n",
    "es = ess[(ess['cntry'] == 'ES') & (ess['year'] == 7)]['sclmeet']\n",
    "\n",
    "plt.figure(figsize=(10, 5))\n",
    "\n",
    "plt.subplot(1, 3, 1)\n",
    "cz.hist()\n",
    "plt.title('Social in 2014: CZ')\n",
    "\n",
    "plt.subplot(1, 3, 2)\n",
    "se.hist()\n",
    "plt.title('Social in 2014: SE')\n",
    "\n",
    "plt.subplot(1, 3, 3)\n",
    "es.hist()\n",
    "plt.title('Social in 2014: ES')\n",
    "  \n",
    "plt.show()"
   ]
  },
  {
   "cell_type": "code",
   "execution_count": 28,
   "metadata": {
    "ExecuteTime": {
     "end_time": "2020-03-18T00:06:24.848785Z",
     "start_time": "2020-03-18T00:06:24.827798Z"
    },
    "scrolled": true
   },
   "outputs": [
    {
     "name": "stdout",
     "output_type": "stream",
     "text": [
      "NormaltestResult(statistic=15.862430828428618, pvalue=0.00035934938904641126)\n",
      "NormaltestResult(statistic=67.04167854218153, pvalue=2.767479903094787e-15)\n",
      "NormaltestResult(statistic=123.94225873711831, pvalue=1.2197771062763894e-27)\n"
     ]
    }
   ],
   "source": [
    "print(stats.normaltest(cz, nan_policy='omit'))\n",
    "print(stats.normaltest(se, nan_policy='omit'))\n",
    "print(stats.normaltest(es, nan_policy='omit'))"
   ]
  },
  {
   "cell_type": "markdown",
   "metadata": {},
   "source": [
    "None of the distributions is normal (non-normal, compare three or more groups)."
   ]
  },
  {
   "cell_type": "code",
   "execution_count": 30,
   "metadata": {
    "ExecuteTime": {
     "end_time": "2020-03-18T00:08:56.529671Z",
     "start_time": "2020-03-18T00:08:56.518835Z"
    },
    "scrolled": true
   },
   "outputs": [
    {
     "data": {
      "text/plain": [
       "(159.6592696121072, 2.1400805076813823e-35, 5.0, array([[177, 527, 629],\n",
       "        [478, 381, 582]]))"
      ]
     },
     "execution_count": 30,
     "metadata": {},
     "output_type": "execute_result"
    }
   ],
   "source": [
    "stats.median_test(cz, se, es, nan_policy='omit')"
   ]
  },
  {
   "cell_type": "code",
   "execution_count": 31,
   "metadata": {
    "ExecuteTime": {
     "end_time": "2020-03-18T00:10:46.419342Z",
     "start_time": "2020-03-18T00:10:46.411248Z"
    },
    "scrolled": true
   },
   "outputs": [
    {
     "name": "stdout",
     "output_type": "stream",
     "text": [
      "4.445801526717557 5.426211453744493 5.2601156069364166\n",
      "4.0 6.0 6.0\n"
     ]
    }
   ],
   "source": [
    "print(cz.mean(), se.mean(), es.mean())\n",
    "print(cz.median(), se.median(), es.median())"
   ]
  },
  {
   "cell_type": "markdown",
   "metadata": {},
   "source": [
    "### Answer:\n",
    "* The medians of the three countries are significantly different.\n",
    "* CZ meets socially less often than SE and ES."
   ]
  },
  {
   "cell_type": "markdown",
   "metadata": {},
   "source": [
    "## Pick three or four of the countries in the sample and compare how often people took part in social activities, relative to others their age, in 2014. Are there differences, and if so, which countries stand out?"
   ]
  },
  {
   "cell_type": "code",
   "execution_count": 32,
   "metadata": {
    "ExecuteTime": {
     "end_time": "2020-03-18T00:15:18.572785Z",
     "start_time": "2020-03-18T00:15:18.240834Z"
    }
   },
   "outputs": [
    {
     "data": {
      "text/plain": [
       "<matplotlib.axes._subplots.AxesSubplot at 0x1a1b9a8910>"
      ]
     },
     "execution_count": 32,
     "metadata": {},
     "output_type": "execute_result"
    },
    {
     "data": {
      "image/png": "[encoded data removed]",
      "text/plain": [
       "<Figure size 432x288 with 1 Axes>"
      ]
     },
     "metadata": {
      "needs_background": "light"
     },
     "output_type": "display_data"
    }
   ],
   "source": [
    "ess[(ess['cntry'] == 'CZ') & (ess['year'] == 7)]['agea'].hist()"
   ]
  },
  {
   "cell_type": "code",
   "execution_count": 33,
   "metadata": {
    "ExecuteTime": {
     "end_time": "2020-03-18T00:18:15.256470Z",
     "start_time": "2020-03-18T00:18:15.208991Z"
    }
   },
   "outputs": [],
   "source": [
    "cz_young = ess[(ess['cntry'] == 'CZ') & (ess['year'] == 7) & (ess['agea'] < 45)]['sclmeet']\n",
    "cz_med = ess[(ess['cntry'] == 'CZ') & (ess['year'] == 7) & (ess['agea'] >= 45) & (ess['agea'] < 65)]['sclmeet']\n",
    "cz_old = ess[(ess['cntry'] == 'CZ') & (ess['year'] == 7) & (ess['agea'] >= 65)]['sclmeet']\n",
    "\n",
    "se_young = ess[(ess['cntry'] == 'SE') & (ess['year'] == 7) & (ess['agea'] < 45)]['sclmeet']\n",
    "se_med = ess[(ess['cntry'] == 'SE') & (ess['year'] == 7) & (ess['agea'] >= 45) & (ess['agea'] < 65)]['sclmeet']\n",
    "se_old = ess[(ess['cntry'] == 'SE') & (ess['year'] == 7) & (ess['agea'] >= 65)]['sclmeet']\n",
    "\n",
    "es_young = ess[(ess['cntry'] == 'ES') & (ess['year'] == 7) & (ess['agea'] < 45)]['sclmeet']\n",
    "es_med = ess[(ess['cntry'] == 'ES') & (ess['year'] == 7) & (ess['agea'] >= 45) & (ess['agea'] < 65)]['sclmeet']\n",
    "es_old = ess[(ess['cntry'] == 'ES') & (ess['year'] == 7) & (ess['agea'] >= 65)]['sclmeet']"
   ]
  },
  {
   "cell_type": "code",
   "execution_count": 36,
   "metadata": {
    "ExecuteTime": {
     "end_time": "2020-03-18T00:20:29.524483Z",
     "start_time": "2020-03-18T00:20:27.994060Z"
    }
   },
   "outputs": [
    {
     "data": {
      "image/png": "[encoded data removed]",
      "text/plain": [
       "<Figure size 1080x720 with 9 Axes>"
      ]
     },
     "metadata": {
      "needs_background": "light"
     },
     "output_type": "display_data"
    }
   ],
   "source": [
    "plt.figure(figsize=(15, 10))\n",
    "\n",
    "plt.subplot(3, 3, 1)\n",
    "cz_young.hist()\n",
    "plt.title('Social in 2014: CZ Young')\n",
    "\n",
    "plt.subplot(3, 3, 2)\n",
    "cz_med.hist()\n",
    "plt.title('Social in 2014: CZ Med')\n",
    "\n",
    "plt.subplot(3, 3, 3)\n",
    "cz_old.hist()\n",
    "plt.title('Social in 2014: CZ Old')\n",
    "\n",
    "plt.subplot(3, 3, 4)\n",
    "se_young.hist()\n",
    "plt.title('Social in 2014: SE Young')\n",
    "\n",
    "plt.subplot(3, 3, 5)\n",
    "se_med.hist()\n",
    "plt.title('Social in 2014: SE Med')\n",
    "\n",
    "plt.subplot(3, 3, 6)\n",
    "se_old.hist()\n",
    "plt.title('Social in 2014: SE Old')\n",
    "\n",
    "plt.subplot(3, 3, 7)\n",
    "es_young.hist()\n",
    "plt.title('Social in 2014: ES Young')\n",
    "\n",
    "plt.subplot(3, 3, 8)\n",
    "es_med.hist()\n",
    "plt.title('Social in 2014: ES Med')\n",
    "\n",
    "plt.subplot(3, 3, 9)\n",
    "es_old.hist()\n",
    "plt.title('Social in 2014: ES Old')\n",
    "  \n",
    "plt.show()"
   ]
  },
  {
   "cell_type": "code",
   "execution_count": 37,
   "metadata": {
    "ExecuteTime": {
     "end_time": "2020-03-18T00:21:37.028443Z",
     "start_time": "2020-03-18T00:21:36.987915Z"
    }
   },
   "outputs": [
    {
     "name": "stdout",
     "output_type": "stream",
     "text": [
      "NormaltestResult(statistic=10.76841309269215, pvalue=0.004588479624164618)\n",
      "NormaltestResult(statistic=4.333356470299184, pvalue=0.11455751872832269)\n",
      "NormaltestResult(statistic=1.3739927065536321, pvalue=0.5030848912323418)\n",
      "NormaltestResult(statistic=49.642566630268696, pvalue=1.6605563682324252e-11)\n",
      "NormaltestResult(statistic=22.72909386225615, pvalue=1.1599518943172092e-05)\n",
      "NormaltestResult(statistic=9.68095406659085, pvalue=0.007903283023066698)\n",
      "NormaltestResult(statistic=52.68257260954697, pvalue=3.631823309008968e-12)\n",
      "NormaltestResult(statistic=27.471338841501357, pvalue=1.083114987341854e-06)\n",
      "NormaltestResult(statistic=41.258927411074865, pvalue=1.0983423969520743e-09)\n"
     ]
    }
   ],
   "source": [
    "print(stats.normaltest(cz_young, nan_policy='omit'))\n",
    "print(stats.normaltest(cz_med, nan_policy='omit'))\n",
    "print(stats.normaltest(cz_old, nan_policy='omit'))\n",
    "\n",
    "print(stats.normaltest(se_young, nan_policy='omit'))\n",
    "print(stats.normaltest(se_med, nan_policy='omit'))\n",
    "print(stats.normaltest(se_old, nan_policy='omit'))\n",
    "\n",
    "print(stats.normaltest(es_young, nan_policy='omit'))\n",
    "print(stats.normaltest(es_med, nan_policy='omit'))\n",
    "print(stats.normaltest(es_old, nan_policy='omit'))"
   ]
  },
  {
   "cell_type": "markdown",
   "metadata": {},
   "source": [
    "Most of the distributions are not normal (non-normal, compare three or more groups)."
   ]
  },
  {
   "cell_type": "code",
   "execution_count": 38,
   "metadata": {
    "ExecuteTime": {
     "end_time": "2020-03-18T00:23:17.139136Z",
     "start_time": "2020-03-18T00:23:17.130368Z"
    }
   },
   "outputs": [
    {
     "data": {
      "text/plain": [
       "(57.758100396083684, 2.8707003112113504e-13, 6.0, array([[ 36, 125,  97],\n",
       "        [272, 231, 416]]))"
      ]
     },
     "execution_count": 38,
     "metadata": {},
     "output_type": "execute_result"
    }
   ],
   "source": [
    "stats.median_test(cz_young, se_young, es_young, nan_policy='omit')"
   ]
  },
  {
   "cell_type": "code",
   "execution_count": 41,
   "metadata": {
    "ExecuteTime": {
     "end_time": "2020-03-18T00:24:17.578568Z",
     "start_time": "2020-03-18T00:24:17.570531Z"
    }
   },
   "outputs": [
    {
     "name": "stdout",
     "output_type": "stream",
     "text": [
      "4.64935064935065 5.786516853932584 5.3879142300194935\n",
      "5.0 6.0 6.0\n"
     ]
    }
   ],
   "source": [
    "print(cz_young.mean(), se_young.mean(), es_young.mean())\n",
    "print(cz_young.median(), se_young.median(), es_young.median())"
   ]
  },
  {
   "cell_type": "code",
   "execution_count": 39,
   "metadata": {
    "ExecuteTime": {
     "end_time": "2020-03-18T00:23:27.493243Z",
     "start_time": "2020-03-18T00:23:27.484039Z"
    },
    "scrolled": true
   },
   "outputs": [
    {
     "data": {
      "text/plain": [
       "(59.91627502405346, 9.757671438998133e-14, 5.0, array([[ 55, 160, 189],\n",
       "        [189, 129, 239]]))"
      ]
     },
     "execution_count": 39,
     "metadata": {},
     "output_type": "execute_result"
    }
   ],
   "source": [
    "stats.median_test(cz_med, se_med, es_med, nan_policy='omit')"
   ]
  },
  {
   "cell_type": "code",
   "execution_count": 42,
   "metadata": {
    "ExecuteTime": {
     "end_time": "2020-03-18T00:24:44.952200Z",
     "start_time": "2020-03-18T00:24:44.945114Z"
    }
   },
   "outputs": [
    {
     "name": "stdout",
     "output_type": "stream",
     "text": [
      "4.360655737704918 5.342560553633218 5.018691588785047\n",
      "4.0 6.0 5.0\n"
     ]
    }
   ],
   "source": [
    "print(cz_med.mean(), se_med.mean(), es_med.mean())\n",
    "print(cz_med.median(), se_med.median(), es_med.median())"
   ]
  },
  {
   "cell_type": "code",
   "execution_count": 40,
   "metadata": {
    "ExecuteTime": {
     "end_time": "2020-03-18T00:23:39.574929Z",
     "start_time": "2020-03-18T00:23:39.566289Z"
    }
   },
   "outputs": [
    {
     "data": {
      "text/plain": [
       "(39.508902790412115, 2.634818875658755e-09, 5.0, array([[ 18, 101, 142],\n",
       "        [ 68, 132,  97]]))"
      ]
     },
     "execution_count": 40,
     "metadata": {},
     "output_type": "execute_result"
    }
   ],
   "source": [
    "stats.median_test(cz_old, se_old, es_old, nan_policy='omit')"
   ]
  },
  {
   "cell_type": "code",
   "execution_count": 43,
   "metadata": {
    "ExecuteTime": {
     "end_time": "2020-03-18T00:25:04.924563Z",
     "start_time": "2020-03-18T00:25:04.915794Z"
    }
   },
   "outputs": [
    {
     "name": "stdout",
     "output_type": "stream",
     "text": [
      "4.116279069767442 5.047210300429184 5.472803347280335\n",
      "4.0 5.0 6.0\n"
     ]
    }
   ],
   "source": [
    "print(cz_old.mean(), se_old.mean(), es_old.mean())\n",
    "print(cz_old.median(), se_old.median(), es_old.median())"
   ]
  },
  {
   "cell_type": "markdown",
   "metadata": {},
   "source": [
    "### Answer:\n",
    "* The medians for all three age groups of the three countries are significantly different.\n",
    "* CZ meets socially less often than SE and ES across all three age groups."
   ]
  }
 ],
 "metadata": {
  "kernelspec": {
   "display_name": "Python 3",
   "language": "python",
   "name": "python3"
  },
  "language_info": {
   "codemirror_mode": {
    "name": "ipython",
    "version": 3
   },
   "file_extension": ".py",
   "mimetype": "text/x-python",
   "name": "python",
   "nbconvert_exporter": "python",
   "pygments_lexer": "ipython3",
   "version": "3.7.4"
  },
  "toc": {
   "base_numbering": 1,
   "nav_menu": {},
   "number_sections": true,
   "sideBar": true,
   "skip_h1_title": false,
   "title_cell": "Table of Contents",
   "title_sidebar": "Contents",
   "toc_cell": false,
   "toc_position": {},
   "toc_section_display": true,
   "toc_window_display": false
  },
  "varInspector": {
   "cols": {
    "lenName": 16,
    "lenType": 16,
    "lenVar": 40
   },
   "kernels_config": {
    "python": {
     "delete_cmd_postfix": "",
     "delete_cmd_prefix": "del ",
     "library": "var_list.py",
     "varRefreshCmd": "print(var_dic_list())"
    },
    "r": {
     "delete_cmd_postfix": ") ",
     "delete_cmd_prefix": "rm(",
     "library": "var_list.r",
     "varRefreshCmd": "cat(var_dic_list()) "
    }
   },
   "types_to_exclude": [
    "module",
    "function",
    "builtin_function_or_method",
    "instance",
    "_Feature"
   ],
   "window_display": false
  }
 },
 "nbformat": 4,
 "nbformat_minor": 2
}
