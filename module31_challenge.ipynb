{
 "cells": [
  {
   "cell_type": "markdown",
   "metadata": {},
   "source": [
    "# Challenge\n",
    "\n",
    "Do a little scraping or API-calling of your own.  Pick a new website and see what you can get out of it.  Expect that you'll run into bugs and blind alleys, and rely on your mentor to help you get through.  \n",
    "\n",
    "Formally, your goal is to write a scraper that will:\n",
    "\n",
    "1) Return specific pieces of information (rather than just downloading a whole page)  \n",
    "2) Iterate over multiple pages/queries  \n",
    "3) Save the data to your computer  \n",
    "\n",
    "Once you have your data, compute some statistical summaries and/or visualizations that give you some new insights into your scraping topic of interest.  Write up a report from scraping code to summary and share it with your mentor."
   ]
  },
  {
   "cell_type": "markdown",
   "metadata": {},
   "source": [
    "# Background\n",
    "\n",
    "I decided to scrape the NASA Exoplanet Archive (https://exoplanetarchive.ipac.caltech.edu/index.html), which is a catalog of astronomical data on exoplanets and their host stars. The data includes stellar parameters, exoplanet parameters, and discovery/characterization data.\n",
    "\n",
    "For this challenge, I chose to return the following pieces of information:\n",
    "\n",
    "* pl_name = planet name\n",
    "* pl_discmethod = discovery method\n",
    "* pl.orbper = orbital period (time the planet takes to make a complete orbit around its host star)\n",
    "* pl_radj = planet radius in Jupiter radii\n",
    "* pl_facility = discovery facility\n",
    "\n",
    "Since the NASA API is able to access the entire archive, I did not have to iterate over multiple pages or queries to return the data of interest."
   ]
  },
  {
   "cell_type": "markdown",
   "metadata": {},
   "source": [
    "# Scrape and Save Data"
   ]
  },
  {
   "cell_type": "code",
   "execution_count": 1,
   "metadata": {
    "ExecuteTime": {
     "end_time": "2020-03-15T00:43:20.169681Z",
     "start_time": "2020-03-15T00:43:17.264133Z"
    }
   },
   "outputs": [],
   "source": [
    "# Get data of interest\n",
    "import requests\n",
    "\n",
    "r = requests.get('https://exoplanetarchive.ipac.caltech.edu/cgi-bin/nstedAPI/nph-nstedAPI?table=exoplanets&select=pl_name,pl_discmethod,pl_orbper,pl_radj,pl_facility&format=json')"
   ]
  },
  {
   "cell_type": "code",
   "execution_count": 2,
   "metadata": {
    "ExecuteTime": {
     "end_time": "2020-03-15T00:43:20.303080Z",
     "start_time": "2020-03-15T00:43:20.173154Z"
    }
   },
   "outputs": [],
   "source": [
    "# Save data of interest as a json file\n",
    "import json\n",
    "\n",
    "data = r.json()\n",
    "\n",
    "with open('exoplanets.json', 'w') as json_file:\n",
    "    json.dump(data, json_file)"
   ]
  },
  {
   "cell_type": "code",
   "execution_count": 3,
   "metadata": {
    "ExecuteTime": {
     "end_time": "2020-03-15T00:43:24.127362Z",
     "start_time": "2020-03-15T00:43:20.313550Z"
    },
    "scrolled": true
   },
   "outputs": [
    {
     "name": "stdout",
     "output_type": "stream",
     "text": [
      "(4135, 5)\n",
      "        pl_name pl_discmethod  pl_orbper  pl_radj pl_facility\n",
      "0  Kepler-150 d       Transit  12.560930    0.249      Kepler\n",
      "1  Kepler-150 e       Transit  30.826557    0.278      Kepler\n",
      "2  Kepler-151 b       Transit  15.228958    0.273      Kepler\n",
      "3  Kepler-151 c       Transit  24.674612    0.186      Kepler\n",
      "4  Kepler-152 b       Transit  18.207973    0.249      Kepler\n"
     ]
    }
   ],
   "source": [
    "# Load json file into a pandas data frame\n",
    "import pandas as pd\n",
    "\n",
    "exoplanets = pd.read_json('exoplanets.json')\n",
    "\n",
    "# Print shape and first 5 entries of resulting data frame\n",
    "print(exoplanets.shape)\n",
    "print(exoplanets.head())"
   ]
  },
  {
   "cell_type": "markdown",
   "metadata": {},
   "source": [
    "# Clean Data"
   ]
  },
  {
   "cell_type": "code",
   "execution_count": 4,
   "metadata": {
    "ExecuteTime": {
     "end_time": "2020-03-15T00:43:24.167495Z",
     "start_time": "2020-03-15T00:43:24.133160Z"
    },
    "scrolled": true
   },
   "outputs": [
    {
     "data": {
      "text/plain": [
       "pl_name            0\n",
       "pl_discmethod      0\n",
       "pl_orbper        120\n",
       "pl_radj          962\n",
       "pl_facility        0\n",
       "dtype: int64"
      ]
     },
     "execution_count": 4,
     "metadata": {},
     "output_type": "execute_result"
    }
   ],
   "source": [
    "# Count number of missing values in each column\n",
    "exoplanets.isnull().sum()"
   ]
  },
  {
   "cell_type": "code",
   "execution_count": 5,
   "metadata": {
    "ExecuteTime": {
     "end_time": "2020-03-15T00:43:24.229922Z",
     "start_time": "2020-03-15T00:43:24.171252Z"
    }
   },
   "outputs": [],
   "source": [
    "# Remove entries with missing values\n",
    "exoplanets.dropna(inplace=True)"
   ]
  },
  {
   "cell_type": "code",
   "execution_count": 6,
   "metadata": {
    "ExecuteTime": {
     "end_time": "2020-03-15T00:43:24.303732Z",
     "start_time": "2020-03-15T00:43:24.252985Z"
    },
    "scrolled": true
   },
   "outputs": [
    {
     "data": {
      "text/plain": [
       "pl_name          0\n",
       "pl_discmethod    0\n",
       "pl_orbper        0\n",
       "pl_radj          0\n",
       "pl_facility      0\n",
       "dtype: int64"
      ]
     },
     "execution_count": 6,
     "metadata": {},
     "output_type": "execute_result"
    }
   ],
   "source": [
    "# Confirm that entries with missing values were removed\n",
    "exoplanets.isnull().sum()"
   ]
  },
  {
   "cell_type": "code",
   "execution_count": 15,
   "metadata": {
    "ExecuteTime": {
     "end_time": "2020-03-15T00:48:44.939317Z",
     "start_time": "2020-03-15T00:48:44.930894Z"
    }
   },
   "outputs": [
    {
     "name": "stdout",
     "output_type": "stream",
     "text": [
      "(3162, 5)\n"
     ]
    }
   ],
   "source": [
    "print(exoplanets.shape)"
   ]
  },
  {
   "cell_type": "markdown",
   "metadata": {},
   "source": [
    "# Analyze Data"
   ]
  },
  {
   "cell_type": "code",
   "execution_count": 7,
   "metadata": {
    "ExecuteTime": {
     "end_time": "2020-03-15T00:43:25.640478Z",
     "start_time": "2020-03-15T00:43:24.333348Z"
    }
   },
   "outputs": [],
   "source": [
    "import seaborn as sns\n",
    "import matplotlib.pyplot as plt"
   ]
  },
  {
   "cell_type": "markdown",
   "metadata": {},
   "source": [
    "## Which discovery method is the most common?"
   ]
  },
  {
   "cell_type": "code",
   "execution_count": 8,
   "metadata": {
    "ExecuteTime": {
     "end_time": "2020-03-15T00:43:25.939608Z",
     "start_time": "2020-03-15T00:43:25.650786Z"
    },
    "scrolled": true
   },
   "outputs": [
    {
     "data": {
      "image/png": "[encoded data removed]",
      "text/plain": [
       "<Figure size 432x288 with 1 Axes>"
      ]
     },
     "metadata": {
      "needs_background": "light"
     },
     "output_type": "display_data"
    }
   ],
   "source": [
    "# Plot frequency of discovery methods in descending order\n",
    "chart = sns.countplot(x='pl_discmethod',\n",
    "                      data=exoplanets,\n",
    "                      order=exoplanets['pl_discmethod'].value_counts().index)\n",
    "\n",
    "chart.set_xticklabels(chart.get_xticklabels(),\n",
    "                      rotation=45, horizontalalignment='right')\n",
    "\n",
    "chart.set_title('Top Exoplanet Discovery Methods')\n",
    "chart.set_xlabel('Discovery Method')\n",
    "chart.set_ylabel('Count')\n",
    "\n",
    "plt.show()"
   ]
  },
  {
   "cell_type": "markdown",
   "metadata": {},
   "source": [
    "The most common discovery method by far is Transit, which means astronomers discovered the exoplanet by measuring a decrease in light from a star as the planet crossed between the star and the observer (typically a telescope)."
   ]
  },
  {
   "cell_type": "markdown",
   "metadata": {},
   "source": [
    "## Which facility has discovered the most exoplanets?"
   ]
  },
  {
   "cell_type": "code",
   "execution_count": 9,
   "metadata": {
    "ExecuteTime": {
     "end_time": "2020-03-15T00:43:26.334174Z",
     "start_time": "2020-03-15T00:43:25.946000Z"
    },
    "scrolled": true
   },
   "outputs": [
    {
     "data": {
      "image/png": "[encoded data removed]",
      "text/plain": [
       "<Figure size 432x288 with 1 Axes>"
      ]
     },
     "metadata": {
      "needs_background": "light"
     },
     "output_type": "display_data"
    }
   ],
   "source": [
    "# Plot frequency of facilities in descending order\n",
    "chart = sns.countplot(x='pl_facility',\n",
    "                      data=exoplanets,\n",
    "                      order=exoplanets['pl_facility'].value_counts().iloc[:20].index)\n",
    "\n",
    "chart.set_xticklabels(chart.get_xticklabels(),\n",
    "                      rotation=45, horizontalalignment='right')\n",
    "\n",
    "chart.set_title('Top 20 Exoplanet Discovery Facilities')\n",
    "chart.set_xlabel('Facility')\n",
    "chart.set_ylabel('Count')\n",
    "\n",
    "plt.show()"
   ]
  },
  {
   "cell_type": "markdown",
   "metadata": {},
   "source": [
    "The Kepler space telescope has discovered the most exoplanets of all the facilities. K2, which uses spacecraft origininally designed and launched for the Kepler mission, has discovered the second most."
   ]
  },
  {
   "cell_type": "markdown",
   "metadata": {},
   "source": [
    "## Which explanet is most similar to Earth in terms of orbital period and radius?"
   ]
  },
  {
   "cell_type": "code",
   "execution_count": 16,
   "metadata": {
    "ExecuteTime": {
     "end_time": "2020-03-15T00:51:37.415935Z",
     "start_time": "2020-03-15T00:51:37.137363Z"
    }
   },
   "outputs": [
    {
     "data": {
      "image/png": "[encoded data removed]",
      "text/plain": [
       "<Figure size 432x288 with 1 Axes>"
      ]
     },
     "metadata": {
      "needs_background": "light"
     },
     "output_type": "display_data"
    }
   ],
   "source": [
    "# Plot orbital period vs. radius\n",
    "chart = sns.scatterplot(x='pl_orbper',\n",
    "                        y='pl_radj',\n",
    "                        data=exoplanets)\n",
    "\n",
    "# Add Earth to plot\n",
    "plt.scatter(x=365, y=0.0892147, color='r')\n",
    "\n",
    "chart.set_title('Earth vs. Exoplanets: Orbital Period and Radius')\n",
    "chart.set_xlabel('Orbital Period in Days')\n",
    "chart.set_ylabel('Radius in Jupiter Radii')\n",
    "\n",
    "plt.show()"
   ]
  },
  {
   "cell_type": "code",
   "execution_count": 10,
   "metadata": {
    "ExecuteTime": {
     "end_time": "2020-03-15T00:43:26.580496Z",
     "start_time": "2020-03-15T00:43:26.337655Z"
    },
    "scrolled": true
   },
   "outputs": [
    {
     "data": {
      "image/png": "[encoded data removed]",
      "text/plain": [
       "<Figure size 432x288 with 1 Axes>"
      ]
     },
     "metadata": {
      "needs_background": "light"
     },
     "output_type": "display_data"
    }
   ],
   "source": [
    "# Plot orbital period vs. radius\n",
    "chart = sns.scatterplot(x='pl_orbper',\n",
    "                        y='pl_radj',\n",
    "                        data=exoplanets)\n",
    "\n",
    "# Add Earth to plot\n",
    "plt.scatter(x=365, y=0.0892147, color='r')\n",
    "\n",
    "# Set axis limits\n",
    "plt.ylim(0.088, 0.09)\n",
    "plt.xlim(3, 21)\n",
    "\n",
    "chart.set_title('Earth vs. Exoplanets: Orbital Period and Radius')\n",
    "chart.set_xlabel('Orbital Period in Days')\n",
    "chart.set_ylabel('Radius in Jupiter Radii')\n",
    "\n",
    "plt.show()"
   ]
  },
  {
   "cell_type": "code",
   "execution_count": 11,
   "metadata": {
    "ExecuteTime": {
     "end_time": "2020-03-15T00:43:26.605729Z",
     "start_time": "2020-03-15T00:43:26.584111Z"
    }
   },
   "outputs": [
    {
     "data": {
      "text/html": [
       "<div>\n",
       "<style scoped>\n",
       "    .dataframe tbody tr th:only-of-type {\n",
       "        vertical-align: middle;\n",
       "    }\n",
       "\n",
       "    .dataframe tbody tr th {\n",
       "        vertical-align: top;\n",
       "    }\n",
       "\n",
       "    .dataframe thead th {\n",
       "        text-align: right;\n",
       "    }\n",
       "</style>\n",
       "<table border=\"1\" class=\"dataframe\">\n",
       "  <thead>\n",
       "    <tr style=\"text-align: right;\">\n",
       "      <th></th>\n",
       "      <th>pl_name</th>\n",
       "      <th>pl_discmethod</th>\n",
       "      <th>pl_orbper</th>\n",
       "      <th>pl_radj</th>\n",
       "      <th>pl_facility</th>\n",
       "    </tr>\n",
       "  </thead>\n",
       "  <tbody>\n",
       "    <tr>\n",
       "      <td>950</td>\n",
       "      <td>Kepler-20 f</td>\n",
       "      <td>Transit</td>\n",
       "      <td>19.577585</td>\n",
       "      <td>0.089</td>\n",
       "      <td>Kepler</td>\n",
       "    </tr>\n",
       "    <tr>\n",
       "      <td>1910</td>\n",
       "      <td>Kepler-1417 b</td>\n",
       "      <td>Transit</td>\n",
       "      <td>20.350521</td>\n",
       "      <td>0.089</td>\n",
       "      <td>Kepler</td>\n",
       "    </tr>\n",
       "    <tr>\n",
       "      <td>2566</td>\n",
       "      <td>Kepler-392 b</td>\n",
       "      <td>Transit</td>\n",
       "      <td>5.341853</td>\n",
       "      <td>0.089</td>\n",
       "      <td>Kepler</td>\n",
       "    </tr>\n",
       "    <tr>\n",
       "      <td>3296</td>\n",
       "      <td>Kepler-1464 c</td>\n",
       "      <td>Transit</td>\n",
       "      <td>5.327863</td>\n",
       "      <td>0.089</td>\n",
       "      <td>Kepler</td>\n",
       "    </tr>\n",
       "    <tr>\n",
       "      <td>3886</td>\n",
       "      <td>K2-239 c</td>\n",
       "      <td>Transit</td>\n",
       "      <td>7.775000</td>\n",
       "      <td>0.089</td>\n",
       "      <td>K2</td>\n",
       "    </tr>\n",
       "    <tr>\n",
       "      <td>4078</td>\n",
       "      <td>EPIC 201833600 c</td>\n",
       "      <td>Transit</td>\n",
       "      <td>3.961510</td>\n",
       "      <td>0.089</td>\n",
       "      <td>K2</td>\n",
       "    </tr>\n",
       "  </tbody>\n",
       "</table>\n",
       "</div>"
      ],
      "text/plain": [
       "               pl_name pl_discmethod  pl_orbper  pl_radj pl_facility\n",
       "950        Kepler-20 f       Transit  19.577585    0.089      Kepler\n",
       "1910     Kepler-1417 b       Transit  20.350521    0.089      Kepler\n",
       "2566      Kepler-392 b       Transit   5.341853    0.089      Kepler\n",
       "3296     Kepler-1464 c       Transit   5.327863    0.089      Kepler\n",
       "3886          K2-239 c       Transit   7.775000    0.089          K2\n",
       "4078  EPIC 201833600 c       Transit   3.961510    0.089          K2"
      ]
     },
     "execution_count": 11,
     "metadata": {},
     "output_type": "execute_result"
    }
   ],
   "source": [
    "exoplanets.loc[(exoplanets['pl_radj'] > 0.088) & (exoplanets['pl_radj'] < 0.09)]"
   ]
  },
  {
   "cell_type": "markdown",
   "metadata": {},
   "source": [
    "There are six exoplanets with a radius similar to that of planet Earth. Of these six exoplanets, Kepler-1417 b has the orbital period closest to that of planet Earth."
   ]
  },
  {
   "cell_type": "code",
   "execution_count": 17,
   "metadata": {
    "ExecuteTime": {
     "end_time": "2020-03-15T00:51:58.425845Z",
     "start_time": "2020-03-15T00:51:58.167537Z"
    },
    "scrolled": false
   },
   "outputs": [
    {
     "data": {
      "image/png": "[encoded data removed]",
      "text/plain": [
       "<Figure size 432x288 with 1 Axes>"
      ]
     },
     "metadata": {
      "needs_background": "light"
     },
     "output_type": "display_data"
    }
   ],
   "source": [
    "# Plot orbital period vs. radius\n",
    "chart = sns.scatterplot(x='pl_orbper',\n",
    "                        y='pl_radj',\n",
    "                        data=exoplanets)\n",
    "\n",
    "# Add Earth to plot\n",
    "plt.scatter(x=365, y=0.0892147, color='r')\n",
    "plt.xlim(360, 370)\n",
    "plt.ylim(0, 0.4)\n",
    "\n",
    "chart.set_title('Earth vs. Exoplanets: Orbital Period and Radius')\n",
    "chart.set_xlabel('Orbital Period in Days')\n",
    "chart.set_ylabel('Radius in Jupiter Radii')\n",
    "\n",
    "plt.show()"
   ]
  },
  {
   "cell_type": "code",
   "execution_count": 13,
   "metadata": {
    "ExecuteTime": {
     "end_time": "2020-03-15T00:43:26.904465Z",
     "start_time": "2020-03-15T00:43:26.885788Z"
    },
    "scrolled": true
   },
   "outputs": [
    {
     "data": {
      "text/html": [
       "<div>\n",
       "<style scoped>\n",
       "    .dataframe tbody tr th:only-of-type {\n",
       "        vertical-align: middle;\n",
       "    }\n",
       "\n",
       "    .dataframe tbody tr th {\n",
       "        vertical-align: top;\n",
       "    }\n",
       "\n",
       "    .dataframe thead th {\n",
       "        text-align: right;\n",
       "    }\n",
       "</style>\n",
       "<table border=\"1\" class=\"dataframe\">\n",
       "  <thead>\n",
       "    <tr style=\"text-align: right;\">\n",
       "      <th></th>\n",
       "      <th>pl_name</th>\n",
       "      <th>pl_discmethod</th>\n",
       "      <th>pl_orbper</th>\n",
       "      <th>pl_radj</th>\n",
       "      <th>pl_facility</th>\n",
       "    </tr>\n",
       "  </thead>\n",
       "  <tbody>\n",
       "    <tr>\n",
       "      <td>3580</td>\n",
       "      <td>Kepler-1536 b</td>\n",
       "      <td>Transit</td>\n",
       "      <td>364.758031</td>\n",
       "      <td>0.28</td>\n",
       "      <td>Kepler</td>\n",
       "    </tr>\n",
       "  </tbody>\n",
       "</table>\n",
       "</div>"
      ],
      "text/plain": [
       "            pl_name pl_discmethod   pl_orbper  pl_radj pl_facility\n",
       "3580  Kepler-1536 b       Transit  364.758031     0.28      Kepler"
      ]
     },
     "execution_count": 13,
     "metadata": {},
     "output_type": "execute_result"
    }
   ],
   "source": [
    "exoplanets.loc[(exoplanets['pl_orbper'] > 360) & (exoplanets['pl_orbper'] < 370)]"
   ]
  },
  {
   "cell_type": "markdown",
   "metadata": {},
   "source": [
    "Only one exoplanet, Kepler-1536 b, has an orbital period within 5 days of that of planet Earth. However, this exoplanet has a much larger radius than planet Earth."
   ]
  },
  {
   "cell_type": "markdown",
   "metadata": {},
   "source": [
    "# Summary"
   ]
  },
  {
   "cell_type": "markdown",
   "metadata": {},
   "source": [
    "In summary, the transit method is the most common discovery method for exoplanets, with Kepler and K2 discovering the most. Although nearly 3162 exoplanets have been entered into the NASA Exoplanet Archive and have orbital period and radius data, none of the exoplanets are extremely similar to planet Earth in terms of both measures. That being said, Kepler-1536 b appears to be the most similar, having a similar orbital period but a larger radius."
   ]
  }
 ],
 "metadata": {
  "kernelspec": {
   "display_name": "Python 3",
   "language": "python",
   "name": "python3"
  },
  "language_info": {
   "codemirror_mode": {
    "name": "ipython",
    "version": 3
   },
   "file_extension": ".py",
   "mimetype": "text/x-python",
   "name": "python",
   "nbconvert_exporter": "python",
   "pygments_lexer": "ipython3",
   "version": "3.7.4"
  },
  "toc": {
   "base_numbering": 1,
   "nav_menu": {},
   "number_sections": true,
   "sideBar": true,
   "skip_h1_title": false,
   "title_cell": "Table of Contents",
   "title_sidebar": "Contents",
   "toc_cell": false,
   "toc_position": {},
   "toc_section_display": true,
   "toc_window_display": false
  },
  "varInspector": {
   "cols": {
    "lenName": 16,
    "lenType": 16,
    "lenVar": 40
   },
   "kernels_config": {
    "python": {
     "delete_cmd_postfix": "",
     "delete_cmd_prefix": "del ",
     "library": "var_list.py",
     "varRefreshCmd": "print(var_dic_list())"
    },
    "r": {
     "delete_cmd_postfix": ") ",
     "delete_cmd_prefix": "rm(",
     "library": "var_list.r",
     "varRefreshCmd": "cat(var_dic_list()) "
    }
   },
   "types_to_exclude": [
    "module",
    "function",
    "builtin_function_or_method",
    "instance",
    "_Feature"
   ],
   "window_display": false
  }
 },
 "nbformat": 4,
 "nbformat_minor": 2
}
