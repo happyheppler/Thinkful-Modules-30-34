{
 "cells": [
  {
   "cell_type": "markdown",
   "metadata": {},
   "source": [
    "# Drill\n",
    "Implement a binary tree, which is filled with 15 pieces of random data. Your job is to then write a program to traverse the tree using a breadth first traversal. If you want additional practice, try other forms of traversal."
   ]
  },
  {
   "cell_type": "code",
   "execution_count": 1,
   "metadata": {
    "ExecuteTime": {
     "end_time": "2020-03-02T01:57:24.716073Z",
     "start_time": "2020-03-02T01:57:24.702777Z"
    }
   },
   "outputs": [],
   "source": [
    "import random"
   ]
  },
  {
   "cell_type": "code",
   "execution_count": 2,
   "metadata": {
    "ExecuteTime": {
     "end_time": "2020-03-02T01:57:24.792159Z",
     "start_time": "2020-03-02T01:57:24.724367Z"
    }
   },
   "outputs": [],
   "source": [
    "class Queue(object):\n",
    "    \n",
    "    def __init__(self):\n",
    "        self.items = []\n",
    "    \n",
    "    # Add items to queue\n",
    "    def enqueue(self, item):\n",
    "        self.items.insert(0, item)\n",
    "    \n",
    "    # Remove item from front of queue\n",
    "    def dequeue(self):\n",
    "        if not self.is_empty():\n",
    "            return self.items.pop()\n",
    "    \n",
    "    def is_empty(self):\n",
    "        return len(self.items) == 0\n",
    "    \n",
    "    def peek(self):\n",
    "        if not self.is_empty():\n",
    "            return self.items[-1].value # Access value of Node stored in this location of queue\n",
    "        \n",
    "    def __len__(self):\n",
    "        return self.size()\n",
    "    \n",
    "    def size(self):\n",
    "        return len(self.items)\n",
    "\n",
    "class Node:\n",
    "\n",
    "    def __init__(self, value):\n",
    "        self.value = value\n",
    "        self.left = None\n",
    "        self.right = None\n",
    "        \n",
    "    # Compare new value with parent node\n",
    "    def insert(self, value):\n",
    "        if self.value: # If parent node not null, then:\n",
    "            if value < self.value:\n",
    "                if self.left is None:\n",
    "                    self.left = Node(value)\n",
    "                else:\n",
    "                    self.left.insert(value)\n",
    "            elif value > self.value:\n",
    "                if self.right is None:\n",
    "                    self.right = Node(value)\n",
    "                else:\n",
    "                    self.right.insert(value)\n",
    "        else: # If parent node is null, then:\n",
    "             self.value = value\n",
    "\n",
    "class BinaryTree(object):\n",
    "    \n",
    "    def __init__(self, root):\n",
    "        self.root = Node(root)\n",
    "\n",
    "    def print_tree(self, traversal_type):\n",
    "        if traversal_type == 'preorder':\n",
    "            return self.preorder_print(tree.root, '') # Recursive\n",
    "        elif traversal_type == 'inorder':\n",
    "            return self.inorder_print(tree.root, '') # Recursive\n",
    "        elif traversal_type == 'postorder':\n",
    "            return self.postorder_print(tree.root, '') # Recursive\n",
    "        elif traversal_type == 'levelorder':\n",
    "            return self.levelorder_print(tree.root) # Iterative\n",
    "        else:\n",
    "            print('Traversal type ' + str(traversal_type) + ' is not supported.')\n",
    "            return False\n",
    "\n",
    "    def preorder_print(self, start, traversal):\n",
    "        '''Root -> Left -> Right'''\n",
    "        if start: # If node in recursive call is not None, then: \n",
    "            traversal += (str(start.value) + '-') # Updates every recursive call\n",
    "            traversal = self.preorder_print(start.left, traversal) # Recursively call the function\n",
    "            traversal = self.preorder_print(start.right, traversal)\n",
    "        return traversal\n",
    "    \n",
    "    def inorder_print(self, start, traversal):\n",
    "        '''Left -> Root -> Right'''\n",
    "        if start:\n",
    "            traversal = self.inorder_print(start.left, traversal)\n",
    "            traversal += (str(start.value) + '-')\n",
    "            traversal = self.inorder_print(start.right, traversal)\n",
    "        return traversal\n",
    "    \n",
    "    def postorder_print(self, start, traversal):\n",
    "        '''Left -> Right -> Root'''\n",
    "        if start:\n",
    "            traversal = self.inorder_print(start.left, traversal)\n",
    "            traversal = self.inorder_print(start.right, traversal)\n",
    "            traversal += (str(start.value) + '-')\n",
    "        return traversal\n",
    "    \n",
    "    def levelorder_print(self, start):\n",
    "        # Check if given node is null\n",
    "        if start is None:\n",
    "            return\n",
    "        \n",
    "        # Define queue object\n",
    "        queue = Queue()\n",
    "        \n",
    "        # Enqueue first item (typically the root)\n",
    "        queue.enqueue(start)\n",
    "        \n",
    "        # String that will show us the content of the node (what the traversal looks like)\n",
    "        traversal = ''\n",
    "        while len(queue) > 0:\n",
    "            traversal += str(queue.peek()) + '-' # Peek at queue and add item to string\n",
    "            node = queue.dequeue() # Take node out of queue\n",
    "            \n",
    "            if node.left: # If node exists, then do the following:\n",
    "                queue.enqueue(node.left) # Enqueue node in queue\n",
    "            if node.right: # If node exists, then do the following:\n",
    "                queue.enqueue(node.right) # Enqueue node in queue\n",
    "                \n",
    "        return traversal\n",
    "    \n",
    "#        1\n",
    "#      /   \\\n",
    "#     2     3 \n",
    "#    / \\   / \\\n",
    "#   4   5 6   7\n",
    "\n",
    "# Create tree object with root of 1\n",
    "# tree = BinaryTree(1)\n",
    "# tree.root.left = Node(2)\n",
    "# tree.root.right = Node(3)\n",
    "# tree.root.left.left = Node(4)\n",
    "# tree.root.left.right = Node(5)\n",
    "# tree.root.right.left = Node(6)\n",
    "# tree.root.right.right = Node(7)\n",
    "\n",
    "# tree.print_tree('preorder')\n",
    "# tree.print_tree('inorder')\n",
    "# tree.print_tree('postorder')\n",
    "# tree.print_tree('levelorder')"
   ]
  },
  {
   "cell_type": "code",
   "execution_count": 28,
   "metadata": {
    "ExecuteTime": {
     "end_time": "2020-03-02T02:07:30.915979Z",
     "start_time": "2020-03-02T02:07:30.895483Z"
    }
   },
   "outputs": [
    {
     "data": {
      "text/plain": [
       "'2-32-40-48-57-58-66-67-70-72-74-79-91-92-98-'"
      ]
     },
     "execution_count": 28,
     "metadata": {},
     "output_type": "execute_result"
    }
   ],
   "source": [
    "def MakeList(random_int):\n",
    "    num_list = []\n",
    "    for count in range(random_int):\n",
    "        num_list.append(random.randint(1, 100))\n",
    "    return num_list\n",
    "\n",
    "sort_list = sorted(MakeList(15), reverse=False)\n",
    "\n",
    "for i in range(len(sort_list)):\n",
    "    if i == 0:\n",
    "        tree = BinaryTree(sort_list[i])\n",
    "    else:\n",
    "        tree.root.insert(sort_list[i])\n",
    "    \n",
    "# tree.print_tree('preorder')\n",
    "# tree.print_tree('inorder')\n",
    "# tree.print_tree('postorder')\n",
    "tree.print_tree('levelorder')"
   ]
  },
  {
   "cell_type": "code",
   "execution_count": null,
   "metadata": {},
   "outputs": [],
   "source": []
  }
 ],
 "metadata": {
  "kernelspec": {
   "display_name": "Python 3",
   "language": "python",
   "name": "python3"
  },
  "language_info": {
   "codemirror_mode": {
    "name": "ipython",
    "version": 3
   },
   "file_extension": ".py",
   "mimetype": "text/x-python",
   "name": "python",
   "nbconvert_exporter": "python",
   "pygments_lexer": "ipython3",
   "version": "3.7.4"
  },
  "toc": {
   "base_numbering": 1,
   "nav_menu": {},
   "number_sections": true,
   "sideBar": true,
   "skip_h1_title": false,
   "title_cell": "Table of Contents",
   "title_sidebar": "Contents",
   "toc_cell": false,
   "toc_position": {},
   "toc_section_display": true,
   "toc_window_display": false
  },
  "varInspector": {
   "cols": {
    "lenName": 16,
    "lenType": 16,
    "lenVar": 40
   },
   "kernels_config": {
    "python": {
     "delete_cmd_postfix": "",
     "delete_cmd_prefix": "del ",
     "library": "var_list.py",
     "varRefreshCmd": "print(var_dic_list())"
    },
    "r": {
     "delete_cmd_postfix": ") ",
     "delete_cmd_prefix": "rm(",
     "library": "var_list.r",
     "varRefreshCmd": "cat(var_dic_list()) "
    }
   },
   "types_to_exclude": [
    "module",
    "function",
    "builtin_function_or_method",
    "instance",
    "_Feature"
   ],
   "window_display": false
  }
 },
 "nbformat": 4,
 "nbformat_minor": 2
}
